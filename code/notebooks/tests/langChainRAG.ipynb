{
 "cells": [
  {
   "metadata": {},
   "cell_type": "markdown",
   "source": [
    "# Summary\n",
    "\n",
    "Notebook to run quick starts and to test code\n"
   ],
   "id": "6ccd7e1ae0f84b20"
  },
  {
   "metadata": {
    "ExecuteTime": {
     "end_time": "2024-11-17T14:11:36.514035Z",
     "start_time": "2024-11-17T14:11:33.784288Z"
    }
   },
   "cell_type": "code",
   "source": [
    "import os, json\n",
    "\n",
    "\n",
    "from langchain_openai import ChatOpenAI\n",
    "# \n",
    "import bs4\n",
    "from langchain import hub\n",
    "from langchain_chroma import Chroma\n",
    "from langchain_community.document_loaders import WebBaseLoader\n",
    "from langchain_core.output_parsers import StrOutputParser\n",
    "from langchain_core.runnables import RunnablePassthrough\n",
    "from langchain_openai import OpenAIEmbeddings\n",
    "from langchain_text_splitters import RecursiveCharacterTextSplitter\n"
   ],
   "id": "c9d536057c6fd979",
   "outputs": [
    {
     "name": "stderr",
     "output_type": "stream",
     "text": [
      "USER_AGENT environment variable not set, consider setting it to identify your requests.\n"
     ]
    }
   ],
   "execution_count": 1
  },
  {
   "metadata": {
    "ExecuteTime": {
     "end_time": "2024-11-08T02:05:43.571885Z",
     "start_time": "2024-11-08T02:05:43.569063Z"
    }
   },
   "cell_type": "code",
   "source": [
    "cred_path = \"../../../SocialScrapers/data/environment\"\n",
    "cred_file = \"api_creds.json\"\n",
    "\n",
    "with open(os.path.join(cred_path, cred_file), 'r') as file:\n",
    "    creds = json.load(file)\n",
    "    \n",
    "os.environ[\"OPENAI_API_KEY\"] = creds[\"open_api_key\"]\n",
    "os.environ[\"LANGCHAIN_TRACING_V2\"] = \"true\"\n",
    "os.environ[\"LANGCHAIN_API_KEY\"] = creds[\"langsmith_api_key\"]\n",
    "\n"
   ],
   "id": "2beee4bc4ca26588",
   "outputs": [],
   "execution_count": 2
  },
  {
   "metadata": {
    "ExecuteTime": {
     "end_time": "2024-11-08T02:06:35.535690Z",
     "start_time": "2024-11-08T02:06:16.310608Z"
    }
   },
   "cell_type": "code",
   "source": [
    "llm = ChatOpenAI(model=\"gpt-4o-mini\")\n",
    "\n",
    "import bs4\n",
    "from langchain import hub\n",
    "from langchain_chroma import Chroma\n",
    "from langchain_community.document_loaders import WebBaseLoader\n",
    "from langchain_core.output_parsers import StrOutputParser\n",
    "from langchain_core.runnables import RunnablePassthrough\n",
    "from langchain_openai import OpenAIEmbeddings\n",
    "from langchain_text_splitters import RecursiveCharacterTextSplitter\n",
    "\n",
    "# Load, chunk and index the contents of the blog.\n",
    "loader = WebBaseLoader(\n",
    "    web_paths=(\"https://archive.org/stream/2022californiare00unse/2022californiare00unse_djvu.txt\",),\n",
    "    bs_kwargs=dict(\n",
    "        parse_only=bs4.SoupStrainer(\n",
    "            # class_=(\"post-content\", \"post-title\", \"post-header\")\n",
    "            \"pre\"\n",
    "        )\n",
    "        \n",
    "    ),\n",
    ")\n",
    "docs = loader.load()\n",
    "\n",
    "text_splitter = RecursiveCharacterTextSplitter(chunk_size=1000, chunk_overlap=200)\n",
    "splits = text_splitter.split_documents(docs)\n",
    "vectorstore = Chroma.from_documents(documents=splits, embedding=OpenAIEmbeddings())\n",
    "\n",
    "# Retrieve and generate using the relevant snippets of the blog.\n",
    "retriever = vectorstore.as_retriever()\n",
    "prompt = hub.pull(\"rlm/rag-prompt\")\n",
    "\n",
    "\n",
    "def format_docs(docs):\n",
    "    return \"\\n\\n\".join(doc.page_content for doc in docs)\n",
    "\n",
    "\n",
    "rag_chain = (\n",
    "    {\"context\": retriever | format_docs, \"question\": RunnablePassthrough()}\n",
    "    | prompt\n",
    "    | llm\n",
    "    | StrOutputParser()\n",
    ")\n",
    "\n",
    "rag_chain.invoke(\"What is the minimum size for a bathroom in California?\")"
   ],
   "id": "7fe746453b7d3ec6",
   "outputs": [
    {
     "data": {
      "text/plain": [
       "'The minimum size for a bathroom in California is not explicitly stated; however, bathrooms are limited to a maximum area of 55 square feet (5.1 m²) according to the California Residential Code. Additionally, bathrooms must have a minimum aggregate glazing area in windows of at least 3 square feet, with half of that being openable. Therefore, while there is no specified minimum size, the design must fit within these regulatory parameters.'"
      ]
     },
     "execution_count": 3,
     "metadata": {},
     "output_type": "execute_result"
    }
   ],
   "execution_count": 3
  },
  {
   "metadata": {},
   "cell_type": "code",
   "outputs": [],
   "execution_count": null,
   "source": "",
   "id": "87dc7999489b7aa4"
  }
 ],
 "metadata": {
  "kernelspec": {
   "display_name": "Python 3",
   "language": "python",
   "name": "python3"
  },
  "language_info": {
   "codemirror_mode": {
    "name": "ipython",
    "version": 2
   },
   "file_extension": ".py",
   "mimetype": "text/x-python",
   "name": "python",
   "nbconvert_exporter": "python",
   "pygments_lexer": "ipython2",
   "version": "2.7.6"
  }
 },
 "nbformat": 4,
 "nbformat_minor": 5
}
