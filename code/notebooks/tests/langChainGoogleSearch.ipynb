{
 "cells": [
  {
   "cell_type": "code",
   "id": "initial_id",
   "metadata": {
    "collapsed": true,
    "ExecuteTime": {
     "end_time": "2024-12-29T17:51:22.477600Z",
     "start_time": "2024-12-29T17:51:22.410536Z"
    }
   },
   "source": [
    "import os, json, sys\n",
    "\n",
    "\n",
    "# from langchain_openai import ChatOpenAI\n",
    "\n",
    "from langchain_core.tools import Tool\n",
    "from langchain_google_community import GoogleSearchAPIWrapper\n",
    "\n",
    "import ollama\n",
    "\n",
    "sys.path.insert(0, \"../../utils\")\n",
    "import gcp_tools as gct\n",
    "\n"
   ],
   "outputs": [],
   "execution_count": 7
  },
  {
   "metadata": {
    "ExecuteTime": {
     "end_time": "2024-12-29T16:32:11.566100Z",
     "start_time": "2024-12-29T16:32:11.473044Z"
    }
   },
   "cell_type": "code",
   "source": [
    "cred_path = \"../../../../../Projects/SocialScrapers/data/environment\"\n",
    "cred_file = \"api_creds.json\"\n",
    "\n",
    "with open(os.path.join(cred_path, cred_file), 'r') as file:\n",
    "    creds = json.load(file)\n",
    "    \n",
    "# os.environ[\"OPENAI_API_KEY\"] = creds[\"open_api_key\"]\n",
    "# os.environ[\"LANGCHAIN_TRACING_V2\"] = \"true\"\n",
    "# os.environ[\"LANGCHAIN_API_KEY\"] = creds[\"langsmith_api_key\"]\n",
    "\n",
    "os.environ[\"GOOGLE_CSE_ID\"] = creds[\"google_cse_id\"]\n",
    "os.environ[\"GOOGLE_API_KEY\"] = creds[\"google_api_key\"]"
   ],
   "id": "3b4e14f533e715d9",
   "outputs": [
    {
     "ename": "NameError",
     "evalue": "name 'os' is not defined",
     "output_type": "error",
     "traceback": [
      "\u001B[0;31m---------------------------------------------------------------------------\u001B[0m",
      "\u001B[0;31mNameError\u001B[0m                                 Traceback (most recent call last)",
      "Cell \u001B[0;32mIn[1], line 4\u001B[0m\n\u001B[1;32m      1\u001B[0m cred_path \u001B[38;5;241m=\u001B[39m \u001B[38;5;124m\"\u001B[39m\u001B[38;5;124m../../../../../Projects/SocialScrapers/data/environment\u001B[39m\u001B[38;5;124m\"\u001B[39m\n\u001B[1;32m      2\u001B[0m cred_file \u001B[38;5;241m=\u001B[39m \u001B[38;5;124m\"\u001B[39m\u001B[38;5;124mapi_creds.json\u001B[39m\u001B[38;5;124m\"\u001B[39m\n\u001B[0;32m----> 4\u001B[0m \u001B[38;5;28;01mwith\u001B[39;00m \u001B[38;5;28mopen\u001B[39m(\u001B[43mos\u001B[49m\u001B[38;5;241m.\u001B[39mpath\u001B[38;5;241m.\u001B[39mjoin(cred_path, cred_file), \u001B[38;5;124m'\u001B[39m\u001B[38;5;124mr\u001B[39m\u001B[38;5;124m'\u001B[39m) \u001B[38;5;28;01mas\u001B[39;00m file:\n\u001B[1;32m      5\u001B[0m     creds \u001B[38;5;241m=\u001B[39m json\u001B[38;5;241m.\u001B[39mload(file)\n\u001B[1;32m      7\u001B[0m \u001B[38;5;66;03m# os.environ[\"OPENAI_API_KEY\"] = creds[\"open_api_key\"]\u001B[39;00m\n\u001B[1;32m      8\u001B[0m \u001B[38;5;66;03m# os.environ[\"LANGCHAIN_TRACING_V2\"] = \"true\"\u001B[39;00m\n\u001B[1;32m      9\u001B[0m \u001B[38;5;66;03m# os.environ[\"LANGCHAIN_API_KEY\"] = creds[\"langsmith_api_key\"]\u001B[39;00m\n",
      "\u001B[0;31mNameError\u001B[0m: name 'os' is not defined"
     ]
    }
   ],
   "execution_count": 1
  },
  {
   "metadata": {},
   "cell_type": "markdown",
   "source": "## Test tool",
   "id": "c8db6c9309fb78d9"
  },
  {
   "metadata": {
    "ExecuteTime": {
     "end_time": "2024-11-20T01:54:19.026823Z",
     "start_time": "2024-11-20T01:54:19.020958Z"
    }
   },
   "cell_type": "code",
   "source": [
    "\n",
    "\n",
    "search = GoogleSearchAPIWrapper()\n",
    "\n",
    "tool = Tool(\n",
    "    name=\"google_search\",\n",
    "    description=\"Search Google for recent results.\",\n",
    "    func=search.run\n",
    "    # func=search_results\n",
    ")\n"
   ],
   "id": "38a845f0774161a2",
   "outputs": [],
   "execution_count": 10
  },
  {
   "metadata": {
    "ExecuteTime": {
     "end_time": "2024-11-20T01:54:20.577794Z",
     "start_time": "2024-11-20T01:54:20.156117Z"
    }
   },
   "cell_type": "code",
   "source": "results = tool.run(\"Housing for community college students in california?\")",
   "id": "7a444218a85973e9",
   "outputs": [],
   "execution_count": 11
  },
  {
   "metadata": {
    "ExecuteTime": {
     "end_time": "2024-11-20T01:54:21.302268Z",
     "start_time": "2024-11-20T01:54:21.298440Z"
    }
   },
   "cell_type": "code",
   "source": [
    "type(results)\n",
    "\n",
    "results[:1000]\n",
    "\n"
   ],
   "id": "a7fbbffdab335e6e",
   "outputs": [
    {
     "data": {
      "text/plain": [
       "\"College Campuses Offering On-Campus Housing · Cerro Coso Community College. South Gateway Student Apartments · College of the Redwoods. 7351 Tompkins Hill Road Feb 2, 2023 ... Prices will range from $990 per month for a shared double in the residence hall to $1,750 per month for a single room in a furnished, six-person\\xa0... Affordable student housing as crucial to student success and helps address the state's housing shortage. By offering affordable student housing, community\\xa0... Sep 6, 2023 ... Though Cerritos, Sierra and 17 other California community colleges were promised $1.1 billion in state cash upfront to construct affordable\\xa0... Eleven California community college campuses offer student housing, and free money is available for groceries through the Calfresh program. Orange Coast College is the first and only community college in Southern California offering on campus student housing. 8 days ago ... *Please note this is an in-person event. Title: Building for Tomorrow: Meeting Ca\""
      ]
     },
     "execution_count": 12,
     "metadata": {},
     "output_type": "execute_result"
    }
   ],
   "execution_count": 12
  },
  {
   "metadata": {
    "ExecuteTime": {
     "end_time": "2024-11-20T01:54:22.541441Z",
     "start_time": "2024-11-20T01:54:22.539506Z"
    }
   },
   "cell_type": "code",
   "source": "",
   "id": "32d482640a17fb4f",
   "outputs": [],
   "execution_count": null
  },
  {
   "metadata": {
    "ExecuteTime": {
     "end_time": "2024-11-20T01:54:23.437851Z",
     "start_time": "2024-11-20T01:54:23.024388Z"
    }
   },
   "cell_type": "code",
   "source": [
    "# Reference\n",
    "# https://blog.gopenai.com/google-search-engine-with-langchain-%EF%B8%8F-bd3c1baa5a68\n",
    "\n",
    "def get_search(query:str=\"\", k:int=1): # get the top-k resources with google\n",
    "    search = GoogleSearchAPIWrapper(k=k)\n",
    "    def search_results(query):\n",
    "        return search.results(query, k)\n",
    "    tool = Tool(\n",
    "        name=\"Google Search Snippets\",\n",
    "        description=\"Search Google for recent results.\",\n",
    "        func=search_results,\n",
    "    )\n",
    "    ref_text = tool.run(query)\n",
    "    if 'Result' not in ref_text[0].keys():\n",
    "        return ref_text\n",
    "    else:\n",
    "        return None\n",
    "\n",
    "query = \"Housing for community college students in california?\"\n",
    "results = get_search(query=query, k=3)"
   ],
   "id": "17d8b10d46bbff47",
   "outputs": [],
   "execution_count": 13
  },
  {
   "metadata": {
    "ExecuteTime": {
     "end_time": "2024-11-20T01:54:23.913643Z",
     "start_time": "2024-11-20T01:54:23.910102Z"
    }
   },
   "cell_type": "code",
   "source": [
    "type(results[0])\n",
    "results\n"
   ],
   "id": "87998d538aa29781",
   "outputs": [
    {
     "data": {
      "text/plain": [
       "[{'title': 'College Dormitories and Housing | California Community Colleges ...',\n",
       "  'link': 'https://www.cccco.edu/Students/Support-Services/College-Dormitories-and-Housing',\n",
       "  'snippet': 'College Campuses Offering On-Campus Housing · Cerro Coso Community College. South Gateway Student Apartments · College of the Redwoods. 7351 Tompkins Hill Road'},\n",
       " {'title': 'More community colleges in California will soon have housing ...',\n",
       "  'link': 'https://calmatters.org/education/higher-education/college-beat/2023/02/community-colleges-in-california-with-housing/',\n",
       "  'snippet': 'Feb 2, 2023 ... Prices will range from $990 per month for a shared double in the residence hall to $1,750 per month for a single room in a furnished, six-person\\xa0...'},\n",
       " {'title': \"Student Housing Unit | California Community Colleges Chancellor's ...\",\n",
       "  'link': 'https://www.cccco.edu/About-Us/Chancellors-Office/Divisions/College-Finance-and-Facilities-Planning/Affordable-Student-Housing',\n",
       "  'snippet': \"Affordable student housing as crucial to student success and helps address the state's housing shortage. By offering affordable student housing, community\\xa0...\"}]"
      ]
     },
     "execution_count": 14,
     "metadata": {},
     "output_type": "execute_result"
    }
   ],
   "execution_count": 14
  },
  {
   "metadata": {},
   "cell_type": "markdown",
   "source": "## Get an OIDC token",
   "id": "662d7404a8c17db4"
  },
  {
   "metadata": {
    "ExecuteTime": {
     "end_time": "2024-12-29T17:52:40.432550Z",
     "start_time": "2024-12-29T17:52:40.429802Z"
    }
   },
   "cell_type": "code",
   "source": [
    "service_url = \"https://ccc-polasst-1062597788108.us-central1.run.app\"\n",
    "service_account_email = \"steve-g@eternal-bongo-435614-b9.iam.gserviceaccount.com\"\n",
    "\n",
    "# gct.idtoken_from_metadata_server(url=service_url, service_account_email=service_account_email)\n"
   ],
   "id": "e02853d11d1976f6",
   "outputs": [],
   "execution_count": 9
  },
  {
   "metadata": {
    "ExecuteTime": {
     "end_time": "2024-12-29T17:52:48.886478Z",
     "start_time": "2024-12-29T17:52:48.883762Z"
    }
   },
   "cell_type": "code",
   "source": "help(ollama.embeddings)",
   "id": "d3d4a2a929ef15a8",
   "outputs": [
    {
     "name": "stdout",
     "output_type": "stream",
     "text": [
      "Help on method embeddings in module ollama._client:\n",
      "\n",
      "embeddings(\n",
      "    model: str = '',\n",
      "    prompt: Optional[str] = None,\n",
      "    options: Union[Mapping[str, Any], ollama._types.Options, NoneType] = None,\n",
      "    keep_alive: Union[float, str, NoneType] = None\n",
      ") -> ollama._types.EmbeddingsResponse method of ollama._client.Client instance\n",
      "    Deprecated in favor of `embed`.\n",
      "\n"
     ]
    }
   ],
   "execution_count": 10
  },
  {
   "metadata": {
    "ExecuteTime": {
     "end_time": "2024-12-29T17:42:21.956135Z",
     "start_time": "2024-12-29T17:42:14.182325Z"
    }
   },
   "cell_type": "code",
   "source": [
    "import requests\n",
    "\n",
    "# Replace with your Ollama service URL and OIDC token\n",
    "ollama_url = \"https://ccc-polasst-1062597788108.us-central1.run.app\"\n",
    "# oidc_token = \"your-oidc-token\"\n",
    "\n",
    "# Text to embed\n",
    "text = \"This is the text to embed.\"\n",
    "\n",
    "# Create the request headers\n",
    "# headers = {\n",
    "#     \"Authorization\": f\"Bearer {oidc_token}\",\n",
    "#     \"Content-Type\": \"application/json\",\n",
    "# }\n",
    "\n",
    "headers = {\n",
    "    \"Content-Type\": \"application/json\",\n",
    "}\n",
    "# Create the request body\n",
    "data = {\n",
    "    \"model\": \"mxbai-embed-large\",\n",
    "    \"prompt\": text,\n",
    "}\n",
    "\n",
    "# Send the request\n",
    "response = requests.post(ollama_url, headers=headers, json=data)\n",
    "\n",
    "# Process the response\n",
    "if response.status_code == 200:\n",
    "    embedding = response.json()[\"response\"]\n",
    "    print(f\"Embedding: {embedding}\")\n",
    "else:\n",
    "    print(f\"Error: {response.status_code}\")"
   ],
   "id": "138e6e3dbac2d560",
   "outputs": [
    {
     "name": "stdout",
     "output_type": "stream",
     "text": [
      "Error: 404\n"
     ]
    }
   ],
   "execution_count": 4
  },
  {
   "metadata": {
    "ExecuteTime": {
     "end_time": "2024-12-29T17:42:59.410408Z",
     "start_time": "2024-12-29T17:42:59.406487Z"
    }
   },
   "cell_type": "code",
   "source": [
    "dir(response)\n",
    "response.text\n"
   ],
   "id": "347bd41389fd876f",
   "outputs": [
    {
     "data": {
      "text/plain": [
       "'404 page not found'"
      ]
     },
     "execution_count": 6,
     "metadata": {},
     "output_type": "execute_result"
    }
   ],
   "execution_count": 6
  },
  {
   "metadata": {},
   "cell_type": "code",
   "outputs": [],
   "execution_count": null,
   "source": "",
   "id": "1a8af9fd7a0d1246"
  }
 ],
 "metadata": {
  "kernelspec": {
   "display_name": "Python 3",
   "language": "python",
   "name": "python3"
  },
  "language_info": {
   "codemirror_mode": {
    "name": "ipython",
    "version": 2
   },
   "file_extension": ".py",
   "mimetype": "text/x-python",
   "name": "python",
   "nbconvert_exporter": "python",
   "pygments_lexer": "ipython2",
   "version": "2.7.6"
  }
 },
 "nbformat": 4,
 "nbformat_minor": 5
}
