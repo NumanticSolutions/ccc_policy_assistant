{
 "cells": [
  {
   "metadata": {
    "ExecuteTime": {
     "end_time": "2024-11-20T01:52:14.758435Z",
     "start_time": "2024-11-20T01:52:14.754395Z"
    }
   },
   "cell_type": "code",
   "source": [
    "# Test the Pyppeteer Puppeteer wrapper\n",
    "\n",
    "\n",
    "# References\n",
    "# - https://scrapeops.io/python-web-scraping-playbook/python-pyppeteer/\n",
    "# - Note Chromium installed at /Users/stephengodfrey/Library/Application Support/pyppeteer/local-chromium/1181205\n"
   ],
   "id": "1678e959386006a6",
   "outputs": [],
   "execution_count": 1
  },
  {
   "metadata": {
    "ExecuteTime": {
     "end_time": "2024-11-20T01:52:38.770188Z",
     "start_time": "2024-11-20T01:52:38.768125Z"
    }
   },
   "cell_type": "code",
   "source": [
    "import asyncio\n",
    "from pyppeteer import launch\n",
    "from bs4 import BeautifulSoup\n"
   ],
   "id": "a25681c13cb427c5",
   "outputs": [],
   "execution_count": 4
  },
  {
   "cell_type": "code",
   "id": "initial_id",
   "metadata": {
    "collapsed": true,
    "ExecuteTime": {
     "end_time": "2024-11-20T01:52:41.912158Z",
     "start_time": "2024-11-20T01:52:39.744171Z"
    }
   },
   "source": [
    "\n",
    "# Get a screenshot of page\n",
    "# async def main():\n",
    "#     browser = await launch()\n",
    "#     page = await browser.newPage()\n",
    "#     await page.goto('https://quotes.toscrape.com/')\n",
    "#     await page.screenshot({'path': 'screenshot.png'})\n",
    "#     await browser.close()\n",
    "\n",
    "# Get the html content and view with beautiful soup\n",
    "async def main():\n",
    "    browser = await launch()\n",
    "    page = await browser.newPage()\n",
    "    await page.goto('https://www.cccco.edu/')\n",
    "\n",
    "    ## Get HTML\n",
    "    html = await page.content()\n",
    "    await browser.close()\n",
    "    return html\n",
    "\n",
    "html_response = await main()\n",
    "\n",
    "## Load HTML Response Into BeautifulSoup\n",
    "soup = BeautifulSoup(html_response, \"html.parser\")\n",
    "# title = quote_block.find('h1').text\n",
    "# print('title', title)\n",
    "\n",
    "\n",
    "\n",
    "\n"
   ],
   "outputs": [],
   "execution_count": 5
  },
  {
   "metadata": {
    "ExecuteTime": {
     "end_time": "2024-11-20T01:52:43.227071Z",
     "start_time": "2024-11-20T01:52:43.223847Z"
    }
   },
   "cell_type": "code",
   "source": [
    "soup\n",
    "# Return all links\n",
    "page_urls = []\n",
    "for a in soup.find_all('a', href=True):\n",
    "    # print(\"Found the URL:\", a['href'])\n",
    "    # page_urls.append((a.contents, a['href']))\n",
    "    page_urls.append((a['href']))\n"
   ],
   "id": "fecafc0c7162d2bf",
   "outputs": [],
   "execution_count": 6
  },
  {
   "metadata": {
    "ExecuteTime": {
     "end_time": "2024-11-20T01:52:44.345565Z",
     "start_time": "2024-11-20T01:52:44.340074Z"
    }
   },
   "cell_type": "code",
   "source": "page_urls",
   "id": "9626c955cc6adb63",
   "outputs": [
    {
     "data": {
      "text/plain": [
       "['#page-banner',\n",
       " '/Students/Find-a-College',\n",
       " 'https://home.cccapply.org/en/',\n",
       " '/College-Professionals/Data',\n",
       " '/About-Us/News-and-Media',\n",
       " '/About-Us/job-opportunities',\n",
       " '/About-Us/Contact',\n",
       " '/',\n",
       " '/',\n",
       " '/Students',\n",
       " '/Students/Find-a-College',\n",
       " '/Students/Apply-for-College',\n",
       " '/Students/Pay-for-College',\n",
       " '/Students/Transfer',\n",
       " '/Students/Career-Education',\n",
       " '/Students/Support-Services',\n",
       " '/About-Us/Notable-Alumni',\n",
       " '/College-Professionals',\n",
       " '/College-Professionals/Data',\n",
       " '/College-Professionals/Guided-Pathways',\n",
       " '/About-Us/Chancellors-Office/Divisions',\n",
       " '/Search-Memos-and-Official-Documents',\n",
       " 'https://cccpln.csod.com/LMS/catalog/Welcome.aspx',\n",
       " '/About-Us',\n",
       " '/About-Us/About-California-Community-Colleges',\n",
       " '/About-Us/Vision-2030',\n",
       " '/About-Us/State-of-the-System',\n",
       " '/About-Us/Key-Facts',\n",
       " '/About-Us/Chancellors-Office',\n",
       " '/About-Us/Board-of-Governors',\n",
       " '/About-Us/Consultation-Council',\n",
       " '/About-Us/News-and-Media',\n",
       " '/About-Us/Reports',\n",
       " '/About-Us/diversity-equity-inclusion',\n",
       " '/About-Us/land-acknowledgement',\n",
       " '/About-Us/job-opportunities',\n",
       " '/About-Us/Contact',\n",
       " '/Students/Find-a-College',\n",
       " 'https://home.cccapply.org/en/',\n",
       " '/College-Professionals/Data',\n",
       " '/About-Us/News-and-Media',\n",
       " '/About-Us/job-opportunities',\n",
       " '/About-Us/Contact',\n",
       " 'Search-Results#site-search-bar',\n",
       " '/About-Us/Vision-2030',\n",
       " '/Students',\n",
       " '/College-Professionals',\n",
       " 'https://icangotocollege.com/',\n",
       " '/Students/Career-Education',\n",
       " '/Students/Career-Education',\n",
       " '/Students/Transfer',\n",
       " '/Students/Transfer',\n",
       " '/Students/Find-a-College',\n",
       " '/Students/Find-a-College',\n",
       " '/Students/Apply-for-College',\n",
       " '/Students/Apply-for-College',\n",
       " '/Students/Pay-for-College',\n",
       " '/Students/Pay-for-College',\n",
       " '/Students/Support-Services',\n",
       " '/Students/Support-Services',\n",
       " '/About-Us/Notable-Alumni',\n",
       " '/Students/Find-a-College',\n",
       " 'https://cvc.edu/',\n",
       " 'https://www.calbright.org',\n",
       " 'mailto:info@cccco.edu',\n",
       " 'https://www.facebook.com/CACommColleges/',\n",
       " 'https://www.instagram.com/californiacommunitycolleges/',\n",
       " 'https://twitter.com/CalCommColleges',\n",
       " 'https://www.youtube.com/user/CACommunityColleges/',\n",
       " '/Students/Find-a-College',\n",
       " '/Students/Apply-for-College',\n",
       " '/Students/Pay-for-College',\n",
       " '/Students/Career-Education',\n",
       " '/Students/Support-Services',\n",
       " '/College-Professionals/Data',\n",
       " '/College-Professionals/Guided-Pathways',\n",
       " '/About-Us/Chancellors-Office/Divisions',\n",
       " '/About-Us/About-California-Community-Colleges',\n",
       " '/About-Us/Vision-2030',\n",
       " '/About-Us/State-of-the-System',\n",
       " '/About-Us/Key-Facts',\n",
       " '/About-Us/Chancellors-Office',\n",
       " '/About-Us/Board-of-Governors',\n",
       " '/About-Us/Consultation-Council',\n",
       " '/About-Us/News-and-Media',\n",
       " '/About-Us/Reports',\n",
       " '/About-Us/diversity-equity-inclusion',\n",
       " '/About-Us/land-acknowledgement',\n",
       " '/About-Us/job-opportunities',\n",
       " '/About-Us/Contact',\n",
       " '/Terms-of-Use',\n",
       " '/Privacy-Statement',\n",
       " '/Accessibility',\n",
       " '/Complaint-Process-Notice']"
      ]
     },
     "execution_count": 7,
     "metadata": {},
     "output_type": "execute_result"
    }
   ],
   "execution_count": 7
  },
  {
   "metadata": {
    "ExecuteTime": {
     "end_time": "2024-11-19T03:36:49.171203Z",
     "start_time": "2024-11-19T03:36:49.166339Z"
    }
   },
   "cell_type": "code",
   "source": "dir(a)",
   "id": "dfcef672e35904cf",
   "outputs": [
    {
     "data": {
      "text/plain": [
       "['DEFAULT_INTERESTING_STRING_TYPES',\n",
       " 'EMPTY_ELEMENT_EVENT',\n",
       " 'END_ELEMENT_EVENT',\n",
       " 'START_ELEMENT_EVENT',\n",
       " 'STRING_ELEMENT_EVENT',\n",
       " '__bool__',\n",
       " '__call__',\n",
       " '__class__',\n",
       " '__contains__',\n",
       " '__copy__',\n",
       " '__deepcopy__',\n",
       " '__delattr__',\n",
       " '__delitem__',\n",
       " '__dict__',\n",
       " '__dir__',\n",
       " '__doc__',\n",
       " '__eq__',\n",
       " '__format__',\n",
       " '__ge__',\n",
       " '__getattr__',\n",
       " '__getattribute__',\n",
       " '__getitem__',\n",
       " '__getstate__',\n",
       " '__gt__',\n",
       " '__hash__',\n",
       " '__init__',\n",
       " '__init_subclass__',\n",
       " '__iter__',\n",
       " '__le__',\n",
       " '__len__',\n",
       " '__lt__',\n",
       " '__module__',\n",
       " '__ne__',\n",
       " '__new__',\n",
       " '__reduce__',\n",
       " '__reduce_ex__',\n",
       " '__repr__',\n",
       " '__setattr__',\n",
       " '__setitem__',\n",
       " '__sizeof__',\n",
       " '__str__',\n",
       " '__subclasshook__',\n",
       " '__unicode__',\n",
       " '__weakref__',\n",
       " '_all_strings',\n",
       " '_clone',\n",
       " '_event_stream',\n",
       " '_find_all',\n",
       " '_find_one',\n",
       " '_format_tag',\n",
       " '_indent_string',\n",
       " '_is_xml',\n",
       " '_lastRecursiveChild',\n",
       " '_last_descendant',\n",
       " '_namespaces',\n",
       " '_should_pretty_print',\n",
       " 'append',\n",
       " 'attrs',\n",
       " 'can_be_empty_element',\n",
       " 'cdata_list_attributes',\n",
       " 'childGenerator',\n",
       " 'children',\n",
       " 'clear',\n",
       " 'contents',\n",
       " 'css',\n",
       " 'decode',\n",
       " 'decode_contents',\n",
       " 'decompose',\n",
       " 'decomposed',\n",
       " 'default',\n",
       " 'descendants',\n",
       " 'encode',\n",
       " 'encode_contents',\n",
       " 'extend',\n",
       " 'extract',\n",
       " 'fetchNextSiblings',\n",
       " 'fetchParents',\n",
       " 'fetchPrevious',\n",
       " 'fetchPreviousSiblings',\n",
       " 'find',\n",
       " 'findAll',\n",
       " 'findAllNext',\n",
       " 'findAllPrevious',\n",
       " 'findChild',\n",
       " 'findChildren',\n",
       " 'findNext',\n",
       " 'findNextSibling',\n",
       " 'findNextSiblings',\n",
       " 'findParent',\n",
       " 'findParents',\n",
       " 'findPrevious',\n",
       " 'findPreviousSibling',\n",
       " 'findPreviousSiblings',\n",
       " 'find_all',\n",
       " 'find_all_next',\n",
       " 'find_all_previous',\n",
       " 'find_next',\n",
       " 'find_next_sibling',\n",
       " 'find_next_siblings',\n",
       " 'find_parent',\n",
       " 'find_parents',\n",
       " 'find_previous',\n",
       " 'find_previous_sibling',\n",
       " 'find_previous_siblings',\n",
       " 'format_string',\n",
       " 'formatter_for_name',\n",
       " 'get',\n",
       " 'getText',\n",
       " 'get_attribute_list',\n",
       " 'get_text',\n",
       " 'has_attr',\n",
       " 'has_key',\n",
       " 'hidden',\n",
       " 'index',\n",
       " 'insert',\n",
       " 'insert_after',\n",
       " 'insert_before',\n",
       " 'interesting_string_types',\n",
       " 'isSelfClosing',\n",
       " 'is_empty_element',\n",
       " 'known_xml',\n",
       " 'name',\n",
       " 'namespace',\n",
       " 'next',\n",
       " 'nextGenerator',\n",
       " 'nextSibling',\n",
       " 'nextSiblingGenerator',\n",
       " 'next_element',\n",
       " 'next_elements',\n",
       " 'next_sibling',\n",
       " 'next_siblings',\n",
       " 'parent',\n",
       " 'parentGenerator',\n",
       " 'parents',\n",
       " 'parserClass',\n",
       " 'parser_class',\n",
       " 'prefix',\n",
       " 'preserve_whitespace_tags',\n",
       " 'prettify',\n",
       " 'previous',\n",
       " 'previousGenerator',\n",
       " 'previousSibling',\n",
       " 'previousSiblingGenerator',\n",
       " 'previous_element',\n",
       " 'previous_elements',\n",
       " 'previous_sibling',\n",
       " 'previous_siblings',\n",
       " 'recursiveChildGenerator',\n",
       " 'renderContents',\n",
       " 'replaceWith',\n",
       " 'replaceWithChildren',\n",
       " 'replace_with',\n",
       " 'replace_with_children',\n",
       " 'select',\n",
       " 'select_one',\n",
       " 'self_and_descendants',\n",
       " 'setup',\n",
       " 'smooth',\n",
       " 'sourceline',\n",
       " 'sourcepos',\n",
       " 'string',\n",
       " 'strings',\n",
       " 'stripped_strings',\n",
       " 'text',\n",
       " 'unwrap',\n",
       " 'wrap']"
      ]
     },
     "execution_count": 20,
     "metadata": {},
     "output_type": "execute_result"
    }
   ],
   "execution_count": 20
  },
  {
   "metadata": {
    "ExecuteTime": {
     "end_time": "2024-11-19T03:37:06.591368Z",
     "start_time": "2024-11-19T03:37:06.589039Z"
    }
   },
   "cell_type": "code",
   "source": "a.get_text()",
   "id": "f59a25f22d8ac6d8",
   "outputs": [
    {
     "data": {
      "text/plain": [
       "'Complaints'"
      ]
     },
     "execution_count": 22,
     "metadata": {},
     "output_type": "execute_result"
    }
   ],
   "execution_count": 22
  },
  {
   "metadata": {
    "ExecuteTime": {
     "end_time": "2024-11-19T03:39:56.375034Z",
     "start_time": "2024-11-19T03:39:56.371331Z"
    }
   },
   "cell_type": "code",
   "source": [
    "type(a)\n",
    "dir(a)\n",
    "a.contents\n"
   ],
   "id": "3d18577a02ddbef7",
   "outputs": [
    {
     "data": {
      "text/plain": [
       "['Complaints']"
      ]
     },
     "execution_count": 25,
     "metadata": {},
     "output_type": "execute_result"
    }
   ],
   "execution_count": 25
  },
  {
   "metadata": {},
   "cell_type": "code",
   "outputs": [],
   "execution_count": null,
   "source": "",
   "id": "6e88ce033a263c3e"
  }
 ],
 "metadata": {
  "kernelspec": {
   "display_name": "Python 3",
   "language": "python",
   "name": "python3"
  },
  "language_info": {
   "codemirror_mode": {
    "name": "ipython",
    "version": 2
   },
   "file_extension": ".py",
   "mimetype": "text/x-python",
   "name": "python",
   "nbconvert_exporter": "python",
   "pygments_lexer": "ipython2",
   "version": "2.7.6"
  }
 },
 "nbformat": 4,
 "nbformat_minor": 5
}
