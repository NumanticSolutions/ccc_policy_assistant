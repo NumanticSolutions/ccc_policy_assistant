{
 "cells": [
  {
   "metadata": {},
   "cell_type": "code",
   "outputs": [],
   "execution_count": null,
   "source": [
    "# Summary\n",
    "\n",
    "A notebook for scraping websites"
   ],
   "id": "afcc7978c2f4baa7"
  },
  {
   "metadata": {},
   "cell_type": "code",
   "outputs": [],
   "execution_count": null,
   "source": [
    "import sys, os\n",
    "import pandas as pd\n",
    "import numpy as np\n",
    "\n",
    "# # Google Cloud including BigQuery\n",
    "# from google.oauth2 import service_account\n",
    "# import pandas_gbq\n",
    "\n"
   ],
   "id": "c80aab47b8c9d78c"
  },
  {
   "metadata": {},
   "cell_type": "code",
   "outputs": [],
   "execution_count": null,
   "source": "",
   "id": "e83798392819418a"
  }
 ],
 "metadata": {},
 "nbformat": 5,
 "nbformat_minor": 9
}
