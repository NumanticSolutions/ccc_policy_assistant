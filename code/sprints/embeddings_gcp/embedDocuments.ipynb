{
 "cells": [
  {
   "metadata": {},
   "cell_type": "markdown",
   "source": "",
   "id": "70f56f619d554eb1"
  },
  {
   "metadata": {},
   "cell_type": "markdown",
   "source": [
    "# Summary\n",
    "\n",
    "Notebook to run the embedding process for multiple documents"
   ],
   "id": "f2aee7c9a28642e2"
  },
  {
   "metadata": {
    "ExecuteTime": {
     "end_time": "2024-12-31T14:38:08.871437Z",
     "start_time": "2024-12-31T14:38:07.066267Z"
    }
   },
   "cell_type": "code",
   "source": "from embed_documents_3 import EmbedDocuments",
   "id": "6b8b95c7b6c69b85",
   "outputs": [],
   "execution_count": 1
  },
  {
   "metadata": {},
   "cell_type": "markdown",
   "source": "## Test",
   "id": "ebcd4c40ab4a79e4"
  },
  {
   "metadata": {
    "ExecuteTime": {
     "end_time": "2024-12-31T14:45:21.022899Z",
     "start_time": "2024-12-31T14:42:31.266764Z"
    }
   },
   "cell_type": "code",
   "source": [
    "# Set paths\n",
    "input_text_path = (\"/Users/stephengodfrey/OneDrive - numanticsolutions.com\"\n",
    "                   \"/Engagements/Projects/ccc_policy_assistant/data/crawls/\")\n",
    "embeddings_path = (\"/Users/stephengodfrey/OneDrive - numanticsolutions.com\"\n",
    "                   \"/Engagements/Projects/ccc_policy_assistant/data/embeddings-vai\")\n",
    "collection_name = \"crawl_docs1\"\n",
    "gcs_bucket_name = \"ccc-chromadb-vai\"\n",
    "\n",
    "embed_loader = EmbedDocuments(input_text_path=input_text_path,\n",
    "                              embeddings_path=embeddings_path,\n",
    "                              collection_name=collection_name,\n",
    "                              gcs_bucket_name=gcs_bucket_name)\n",
    "\n",
    "# Read input files\n",
    "embed_loader.get_input_filenames()\n",
    "\n",
    "# Read input files\n",
    "# embed_loader.read_text_data()\n",
    "\n",
    "# Chunk text\n",
    "# embed_loader.chunk_input_text()\n",
    "\n",
    "# Embed\n",
    "# embed_loader.embed()\n",
    "\n",
    "# Copy Embeddings to GCS\n",
    "embed_loader.copy_embeddings_to_gcs()\n"
   ],
   "id": "ee5ab9870a67aa63",
   "outputs": [
    {
     "name": "stdout",
     "output_type": "stream",
     "text": [
      "/Users/stephengodfrey/OneDrive - numanticsolutions.com/Engagements/Projects/ccc_policy_assistant/data/embeddings-vai\n",
      "Uploaded /Users/stephengodfrey/OneDrive - numanticsolutions.com/Engagements/Projects/ccc_policy_assistant/data/embeddings-vai/chroma.sqlite3 to gs://ccc-chromadb-vai/chroma.sqlite3\n",
      "Uploaded /Users/stephengodfrey/OneDrive - numanticsolutions.com/Engagements/Projects/ccc_policy_assistant/data/embeddings-vai/22e671e4-4c48-4404-b154-f1a722653a26/data_level0.bin to gs://ccc-chromadb-vai/22e671e4-4c48-4404-b154-f1a722653a26/data_level0.bin\n",
      "Uploaded /Users/stephengodfrey/OneDrive - numanticsolutions.com/Engagements/Projects/ccc_policy_assistant/data/embeddings-vai/22e671e4-4c48-4404-b154-f1a722653a26/length.bin to gs://ccc-chromadb-vai/22e671e4-4c48-4404-b154-f1a722653a26/length.bin\n",
      "Uploaded /Users/stephengodfrey/OneDrive - numanticsolutions.com/Engagements/Projects/ccc_policy_assistant/data/embeddings-vai/22e671e4-4c48-4404-b154-f1a722653a26/link_lists.bin to gs://ccc-chromadb-vai/22e671e4-4c48-4404-b154-f1a722653a26/link_lists.bin\n",
      "Uploaded /Users/stephengodfrey/OneDrive - numanticsolutions.com/Engagements/Projects/ccc_policy_assistant/data/embeddings-vai/22e671e4-4c48-4404-b154-f1a722653a26/header.bin to gs://ccc-chromadb-vai/22e671e4-4c48-4404-b154-f1a722653a26/header.bin\n",
      "Uploaded /Users/stephengodfrey/OneDrive - numanticsolutions.com/Engagements/Projects/ccc_policy_assistant/data/embeddings-vai/22e671e4-4c48-4404-b154-f1a722653a26/index_metadata.pickle to gs://ccc-chromadb-vai/22e671e4-4c48-4404-b154-f1a722653a26/index_metadata.pickle\n"
     ]
    }
   ],
   "execution_count": 3
  },
  {
   "metadata": {},
   "cell_type": "markdown",
   "source": "## Test the local embeddings",
   "id": "ec6bd41cf690d51c"
  },
  {
   "metadata": {
    "ExecuteTime": {
     "end_time": "2024-12-30T18:13:20.837136Z",
     "start_time": "2024-12-30T18:13:17.734868Z"
    }
   },
   "cell_type": "code",
   "source": [
    "import os\n",
    "import langchain\n",
    "from langchain.chains import create_retrieval_chain\n",
    "from langchain.chains.combine_documents import create_stuff_documents_chain\n",
    "from langchain.document_loaders import TextLoader, UnstructuredPDFLoader\n",
    "from langchain.prompts import PromptTemplate\n",
    "from langchain.text_splitter import CharacterTextSplitter\n",
    "from langchain.vectorstores.chroma import Chroma\n",
    "from langchain_google_vertexai import VertexAI, VertexAIEmbeddings\n",
    "import vertexai\n",
    "\n",
    "import chromadb"
   ],
   "id": "c6e4d8ac6a0fff02",
   "outputs": [],
   "execution_count": 2
  },
  {
   "metadata": {
    "ExecuteTime": {
     "end_time": "2024-12-30T18:13:23.657822Z",
     "start_time": "2024-12-30T18:13:22.475022Z"
    }
   },
   "cell_type": "code",
   "source": [
    "embeddings_path = (\"/Users/stephengodfrey/OneDrive - numanticsolutions.com\"\n",
    "                   \"/Engagements/Projects/ccc_policy_assistant/data/embeddings-vai\")\n",
    "\n",
    "collection_name = \"langchain\"\n",
    "\n",
    "client = chromadb.PersistentClient(path=embeddings_path)\n",
    "\n",
    "collection = client.get_collection(name=collection_name)\n",
    "\n",
    "documents = collection.get()"
   ],
   "id": "2ec197626585d63a",
   "outputs": [],
   "execution_count": 3
  },
  {
   "metadata": {
    "ExecuteTime": {
     "end_time": "2024-12-30T18:13:40.810646Z",
     "start_time": "2024-12-30T18:13:40.082028Z"
    }
   },
   "cell_type": "code",
   "source": [
    "project_id = \"eternal-bongo-435614-b9\"\n",
    "location = \"us-central1\"\n",
    "vertexai.init(project=project_id, location=location)\n",
    "\n",
    "embedding_model = \"textembedding-gecko@003\"\n",
    "\n",
    "llm = VertexAI(\n",
    "    model=\"gemini-1.5-pro\",\n",
    "    max_output_tokens=2048,\n",
    "    temperature=0.2,\n",
    "    top_p=0.8,\n",
    "    top_k=40,\n",
    "    verbose=True,\n",
    ")\n",
    "\n",
    "\n",
    "# retriever = db.as_retriever(search_type=\"similarity\", search_kwargs={\"k\": 3})\n",
    "# retriever = client.as_retriever(search_type=\"similarity\", search_kwargs={\"k\": 3})\n",
    "\n",
    "question = \"what college is designated a Center of Excellence in bioprocessing?\"\n",
    "template = \"\"\"\n",
    "Question: {question}\n",
    "Answer:\n",
    "\"\"\"\n",
    "prompt = PromptTemplate(template=template, input_variables=[\"question\"])\n",
    "# prompt = PromptTemplate.from_template(template)\n",
    "\n",
    "embeddings = VertexAIEmbeddings(model_name=embedding_model)\n",
    "\n",
    "embedded_prompt = embeddings.embed_query(question)\n",
    "\n",
    "n_neighbors = 3\n",
    "results = collection.query(\n",
    "    query_embeddings=embedded_prompt,\n",
    "    n_results=n_neighbors\n",
    ")\n",
    "\n"
   ],
   "id": "f3a7793c5da81c1",
   "outputs": [],
   "execution_count": 4
  },
  {
   "metadata": {
    "ExecuteTime": {
     "end_time": "2024-12-30T18:18:42.769480Z",
     "start_time": "2024-12-30T18:18:42.763890Z"
    }
   },
   "cell_type": "code",
   "source": [
    "type(results)\n",
    "\n",
    "print(results.keys())\n",
    "\n",
    "# results[\"metadatas\"]\n",
    "# results[\"documents\"]\n",
    "\n",
    "results[\"distances\"]\n"
   ],
   "id": "1bcb4db293ab853e",
   "outputs": [
    {
     "name": "stdout",
     "output_type": "stream",
     "text": [
      "dict_keys(['ids', 'embeddings', 'documents', 'uris', 'data', 'metadatas', 'distances', 'included'])\n"
     ]
    },
    {
     "data": {
      "text/plain": [
       "[[0.6776347756385803, 0.6879165172576904, 0.7347260117530823]]"
      ]
     },
     "execution_count": 9,
     "metadata": {},
     "output_type": "execute_result"
    }
   ],
   "execution_count": 9
  },
  {
   "metadata": {},
   "cell_type": "code",
   "outputs": [],
   "execution_count": null,
   "source": "",
   "id": "962cf932331c88de"
  }
 ],
 "metadata": {
  "kernelspec": {
   "display_name": "Python 3",
   "language": "python",
   "name": "python3"
  },
  "language_info": {
   "codemirror_mode": {
    "name": "ipython",
    "version": 2
   },
   "file_extension": ".py",
   "mimetype": "text/x-python",
   "name": "python",
   "nbconvert_exporter": "python",
   "pygments_lexer": "ipython2",
   "version": "2.7.6"
  }
 },
 "nbformat": 4,
 "nbformat_minor": 5
}
