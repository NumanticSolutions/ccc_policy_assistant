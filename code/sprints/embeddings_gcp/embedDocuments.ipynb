{
 "cells": [
  {
   "metadata": {},
   "cell_type": "markdown",
   "source": "",
   "id": "70f56f619d554eb1"
  },
  {
   "metadata": {},
   "cell_type": "markdown",
   "source": [
    "# Summary\n",
    "\n",
    "Notebook to run the embedding process for multiple documents"
   ],
   "id": "f2aee7c9a28642e2"
  },
  {
   "metadata": {},
   "cell_type": "code",
   "source": [
    "\n",
    "\n",
    "from embed_documents_3 import EmbedDocuments"
   ],
   "id": "6b8b95c7b6c69b85",
   "outputs": [],
   "execution_count": null
  },
  {
   "metadata": {},
   "cell_type": "markdown",
   "source": "## Test",
   "id": "ebcd4c40ab4a79e4"
  },
  {
   "metadata": {},
   "cell_type": "code",
   "source": [
    "# Set paths\n",
    "input_text_path = (\"/Users/stephengodfrey/OneDrive - numanticsolutions.com\"\n",
    "                   \"/Engagements/Projects/ccc_policy_assistant/data/crawls/\")\n",
    "embeddings_path = (\"/Users/stephengodfrey/OneDrive - numanticsolutions.com\"\n",
    "                   \"/Engagements/Projects/ccc_policy_assistant/data/embeddings-vai\")\n",
    "collection_name = \"crawl_docs1\"\n",
    "gcs_bucket_name = \"ccc-chromadb-vai\"\n",
    "\n",
    "embed_loader = EmbedDocuments(input_text_path=input_text_path,\n",
    "                              embeddings_path=embeddings_path,\n",
    "                              collection_name=collection_name,\n",
    "                              gcs_bucket_name=gcs_bucket_name)\n",
    "\n",
    "# Read input files\n",
    "embed_loader.get_input_filenames()\n",
    "\n",
    "# Read input files\n",
    "embed_loader.read_text_data()\n",
    "\n",
    "# Chunk text\n",
    "embed_loader.chunk_input_text()\n",
    "\n",
    "# Embed\n",
    "# embed_loader.embed()\n",
    "\n",
    "# Copy Embeddings to GCS\n",
    "# embed_loader.copy_embeddings_to_gcs()\n"
   ],
   "id": "ee5ab9870a67aa63",
   "outputs": [],
   "execution_count": null
  },
  {
   "metadata": {},
   "cell_type": "markdown",
   "source": "## Test embeddings",
   "id": "54ec93bccb3356d2"
  },
  {
   "metadata": {},
   "cell_type": "code",
   "source": [
    "embed_loader.input_df\n",
    "mask = embed_loader.input_df[\"url\"].str.find(\"MiraCosta\")>=0\n",
    "embed_loader.input_df[mask]\n"
   ],
   "id": "163141d3b090a373",
   "outputs": [],
   "execution_count": null
  },
  {
   "metadata": {
    "ExecuteTime": {
     "end_time": "2025-01-05T02:31:01.568687Z",
     "start_time": "2025-01-05T02:31:01.562194Z"
    }
   },
   "cell_type": "code",
   "source": [
    "embed_loader.docs\n",
    "\n",
    "\n",
    "for doc in embed_loader.docs:\n",
    "    if doc.metadata == {'url': 'https://en.wikipedia.org/wiki/MiraCosta_College'}:\n",
    "        print(doc)\n",
    "        if doc.page_content.find(\"Center of Excellence in bioprocessing \")>=0:\n",
    "            print(doc.page_content)"
   ],
   "id": "79d17411631fd80e",
   "outputs": [
    {
     "name": "stdout",
     "output_type": "stream",
     "text": [
      "page_content='MiraCosta College is a public community college serving coastal Northern San Diego County in California with two campuses, one in eastern Oceanside and the other in Cardiff-by-the-Sea, and many satellite locations, including the Community Learning Center in western Oceanside. MiraCosta was founded in 1934. Classes began in a wing at Oceanside High School. Originally, MiraCosta was known as Oceanside-Carlsbad Junior College. There were 122 students enrolled and 20 faculty members. It was the second community college to be established in San Diego County. Only 16 courses were initially offered, and they counted as credit toward advanced standing at the University of California. [citation needed] By 1959, enrollment in Oceanside-Carlsbad Junior College had grown to 500 full-time students in classrooms on 30 acres (12 ha) adjacent to Oceanside High School. In 1960, voters approved a separate community college district and a bond issue to provide funding for a new college campus.[citation' metadata={'url': 'https://en.wikipedia.org/wiki/MiraCosta_College'}\n",
      "page_content='campus.[citation needed] In 1964, the college relocated to its present 121-acre (49 ha) hilltop location and was renamed MiraCosta College. The name MiraCosta (Spanish for \"behold the coast\") refers to the panoramic ocean and coastal mountain views from the campus. The property was purchased for $575,000 and was part of a parcel owned by renowned ice skater Sonja Henie. A neighborhood in Oceanside named Henie Hills is to the west of the campus.[citation needed] The district once again expanded in 1976 to include all of the North County coastal communities from Camp Pendleton to Del Mar. By 1978, enrollment was more than 7,000 students. A satellite campus opened in Del Mar in a vacant elementary school. This campus served students who lived in the southern portion of the district. In the first semester, 1,034 credit students enrolled. Soon after, MiraCosta purchased a 48-acre (19 ha) parcel near the San Elijo Lagoon in Cardiff-by-the-Sea. The San Elijo Campus opened in 1988 to 2,500' metadata={'url': 'https://en.wikipedia.org/wiki/MiraCosta_College'}\n",
      "page_content='in 1988 to 2,500 credit students. In 2000, the Adult Learning Center relocated to its current permanent CLC location on Mission Avenue in Oceanside and was renamed the Community Learning Center. The center has expanded its adult education offerings to include parenting classes, workshops for older adults, and programs for those who are physically and mentally challenged. The Cisco Academy, offering training in computer networking, is also housed at the center. The college's Small Business Development Center is next door.[3] In 2002, MiraCosta opened the doors to its new Child Development Center on the Oceanside Campus, which provides both academic instruction to students and child care services to student, staff, and community families. The curriculum is specifically designed to encourage early childhood learning.[citation needed] The Oceanside Campus opened a significantly larger library in 2003.[citation needed] In November 2005, MiraCosta, in partnership with Genentech and other' metadata={'url': 'https://en.wikipedia.org/wiki/MiraCosta_College'}\n",
      "page_content='Genentech and other local biotech firms opened the biotech facility, designated as a Center of Excellence in bioprocessing by the U.S. Department of Labor. Across the street from the biotechnology facility, a remodeled Horticulture Complex was dedicated in August 2007, housing a greenhouse, laboratories, and classrooms specifically designed to give students a \"hands on\" learning experience in the art and science of cultivating plants.[citation needed] MiraCosta has also invested in the arts, remodeling the theater and creative arts buildings. In the beginning of 2007, the new theater hosted its first show. [citation needed] In 2010, MiraCosta opened a new Concert Hall for music performances.[citation needed] In 2004, Tim Dong[who?] retired after serving ten years and Victoria Muñoz Richart took over as superintendent and president. Dr. Richart served just under three years, and after her departure in June 2007, MiraCosta had two interim superintendent/presidents, John Hendrickson and' metadata={'url': 'https://en.wikipedia.org/wiki/MiraCosta_College'}\n",
      "Genentech and other local biotech firms opened the biotech facility, designated as a Center of Excellence in bioprocessing by the U.S. Department of Labor. Across the street from the biotechnology facility, a remodeled Horticulture Complex was dedicated in August 2007, housing a greenhouse, laboratories, and classrooms specifically designed to give students a \"hands on\" learning experience in the art and science of cultivating plants.[citation needed] MiraCosta has also invested in the arts, remodeling the theater and creative arts buildings. In the beginning of 2007, the new theater hosted its first show. [citation needed] In 2010, MiraCosta opened a new Concert Hall for music performances.[citation needed] In 2004, Tim Dong[who?] retired after serving ten years and Victoria Muñoz Richart took over as superintendent and president. Dr. Richart served just under three years, and after her departure in June 2007, MiraCosta had two interim superintendent/presidents, John Hendrickson and\n",
      "page_content='Hendrickson and Susan Cota. In March 2009, MiraCosta welcomed new superintendent/president Francisco Rodriguez.[citation needed] Controversy erupted in 2007 regarding fraud over illegal sale of palm trees. Subsequent investigations, lawsuits and resignations involved former president Dr. Victoria Muñoz Richart, former horticultural department director and instructor Alleen Texiera, and the board of trustees. [4] The college was then placed on warning by its accrediting agency,[5] which was eventually reversed after administrative changes. After 10 years all lawsuits were settled which cumulatively cost the college a total of $5 million.[6] In 2015, MiraCosta introduced a scholarship for transgender students.[7] MiraCosta College offers associate degrees equivalent to the first two years of a bachelor's degree (2+2 program). With an associate degree, students can transfer to a 4-year university or begin work. MiraCosta also offers over 50 different certificates for students interested' metadata={'url': 'https://en.wikipedia.org/wiki/MiraCosta_College'}\n",
      "page_content='students interested in short-term training in a specific career area. Certificates can be completed in one or two years. The college was also selected as one of 15 California community colleges authorized to offer a bachelor's degree program by the California state legislature. Course work for the biomanufacturing bachelor's degree was scheduled to begin in fall 2017 and build on the current associate's biomanufacturing degree already in place.[8] The degree program will prepare students for work within the biotechnology industry in the unique environment of biological production where science thrives in partnership with quality and compliance. The total cost of the degree is estimated to be approximately $10,000. MiraCosta College's men's/women's basketball and soccer teams compete in the Pacific Coast Conference. MiraCosta also has a surf team that competes in the college division of the National Scholastic Surfing Association (NSSA). In 2018, the MiraCosta rugby team won the NSCRO' metadata={'url': 'https://en.wikipedia.org/wiki/MiraCosta_College'}\n",
      "page_content='team won the NSCRO Men's Challenge Cup. The school colors are blue, green, and white, and the college's team name is the Spartans.[9] Intramural sports are also offered to the campus community. Student Resources: Library and Information Hubs at both the Oceanside and San Elijo campuses; more than 1,000 networked computers for student use; Wellness Center at the Oceanside Campus; free tutoring in nearly every subject; more than 1,500 students participate in Service Learning projects related to class curricula; Honors Scholars Program and active national honor society. College activities: Periodic \"College Hour\" events during the noon hour featuring many cultural events and performing arts featuring guest artists as well as student work. MiraCosta College offers four different LGBTQ+ student scholarships.[10] All four scholarships are fully-endowed and managed by the MiraCosta College Foundation; these scholarships will be awarded annually as long as the college exists.[11] Two of the' metadata={'url': 'https://en.wikipedia.org/wiki/MiraCosta_College'}\n",
      "page_content='Two of the endowed scholarships, the Trans* Pride Scholarship and the Queer and Trans People of Color (QTPOC) Scholarship, are the first fully-endowed scholarships for transgender and QTPOC students in the world.[12] LGBTQ+ student scholarships include:' metadata={'url': 'https://en.wikipedia.org/wiki/MiraCosta_College'}\n"
     ]
    }
   ],
   "execution_count": 15
  },
  {
   "metadata": {},
   "cell_type": "code",
   "source": "",
   "id": "b3230ca0b701b8f5",
   "outputs": [],
   "execution_count": null
  },
  {
   "metadata": {},
   "cell_type": "code",
   "source": "",
   "id": "e39a3a61eb0cc092",
   "outputs": [],
   "execution_count": null
  }
 ],
 "metadata": {
  "kernelspec": {
   "display_name": "Python 3",
   "language": "python",
   "name": "python3"
  },
  "language_info": {
   "codemirror_mode": {
    "name": "ipython",
    "version": 2
   },
   "file_extension": ".py",
   "mimetype": "text/x-python",
   "name": "python",
   "nbconvert_exporter": "python",
   "pygments_lexer": "ipython2",
   "version": "2.7.6"
  }
 },
 "nbformat": 4,
 "nbformat_minor": 5
}
