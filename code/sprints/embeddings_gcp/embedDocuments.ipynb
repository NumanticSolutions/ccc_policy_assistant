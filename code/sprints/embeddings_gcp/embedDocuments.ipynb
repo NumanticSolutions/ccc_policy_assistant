{
 "cells": [
  {
   "metadata": {},
   "cell_type": "markdown",
   "source": [
    "# Summary\n",
    "\n",
    "Notebook to run the embedding process for multiple documents"
   ],
   "id": "f2aee7c9a28642e2"
  },
  {
   "metadata": {
    "ExecuteTime": {
     "end_time": "2024-12-28T00:29:04.334341Z",
     "start_time": "2024-12-28T00:29:02.573394Z"
    }
   },
   "cell_type": "code",
   "source": "from embed_documents_2 import EmbedDocuments",
   "id": "6b8b95c7b6c69b85",
   "outputs": [],
   "execution_count": 1
  },
  {
   "metadata": {},
   "cell_type": "markdown",
   "source": "## Test",
   "id": "ebcd4c40ab4a79e4"
  },
  {
   "metadata": {
    "ExecuteTime": {
     "end_time": "2024-12-26T14:29:37.824988Z",
     "start_time": "2024-12-26T14:28:35.635142Z"
    }
   },
   "cell_type": "code",
   "source": [
    "# Set paths\n",
    "input_text_path = (\"/Users/stephengodfrey/OneDrive - numanticsolutions.com\"\n",
    "                   \"/Engagements/Projects/ccc_policy_assistant/data/crawls/\")\n",
    "embeddings_path = (\"/Users/stephengodfrey/OneDrive - numanticsolutions.com\"\n",
    "                   \"/Engagements/Projects/ccc_policy_assistant/data/embeddings\")\n",
    "collection_name = \"crawl_docs1\"\n",
    "gcs_bucket_name = \"ccc_pol_asst\"\n",
    "\n",
    "embed_loader = EmbedDocuments(input_text_path=input_text_path,\n",
    "                              embeddings_path=embeddings_path,\n",
    "                              collection_name=collection_name,\n",
    "                              gcs_bucket_name=gcs_bucket_name)\n",
    "\n",
    "# Read input files\n",
    "embed_loader.get_input_filenames()\n",
    "\n",
    "# Read input files\n",
    "embed_loader.read_text_data()\n",
    "\n",
    "# Chunk text\n",
    "# embed_loader.chunk_input_text()\n",
    "\n",
    "# Embed\n",
    "# embed_loader.embed()\n",
    "\n",
    "# Copy Embeddings to GCS\n",
    "embed_loader.copy_embeddings_to_gcs()\n"
   ],
   "id": "ee5ab9870a67aa63",
   "outputs": [
    {
     "name": "stdout",
     "output_type": "stream",
     "text": [
      "Uploaded /Users/stephengodfrey/OneDrive - numanticsolutions.com/Engagements/Projects/ccc_policy_assistant/data/embeddings/.DS_Store to gs://ccc_pol_asst/chroma.DS_Store\n",
      "Uploaded /Users/stephengodfrey/OneDrive - numanticsolutions.com/Engagements/Projects/ccc_policy_assistant/data/embeddings/chroma.sqlite3 to gs://ccc_pol_asst/chromachroma.sqlite3\n",
      "Uploaded /Users/stephengodfrey/OneDrive - numanticsolutions.com/Engagements/Projects/ccc_policy_assistant/data/embeddings/4e3116a9-2edb-4075-a7c6-17429cdd801f/data_level0.bin to gs://ccc_pol_asst/chroma4e3116a9-2edb-4075-a7c6-17429cdd801f/data_level0.bin\n",
      "Uploaded /Users/stephengodfrey/OneDrive - numanticsolutions.com/Engagements/Projects/ccc_policy_assistant/data/embeddings/4e3116a9-2edb-4075-a7c6-17429cdd801f/length.bin to gs://ccc_pol_asst/chroma4e3116a9-2edb-4075-a7c6-17429cdd801f/length.bin\n",
      "Uploaded /Users/stephengodfrey/OneDrive - numanticsolutions.com/Engagements/Projects/ccc_policy_assistant/data/embeddings/4e3116a9-2edb-4075-a7c6-17429cdd801f/link_lists.bin to gs://ccc_pol_asst/chroma4e3116a9-2edb-4075-a7c6-17429cdd801f/link_lists.bin\n",
      "Uploaded /Users/stephengodfrey/OneDrive - numanticsolutions.com/Engagements/Projects/ccc_policy_assistant/data/embeddings/4e3116a9-2edb-4075-a7c6-17429cdd801f/header.bin to gs://ccc_pol_asst/chroma4e3116a9-2edb-4075-a7c6-17429cdd801f/header.bin\n",
      "Uploaded /Users/stephengodfrey/OneDrive - numanticsolutions.com/Engagements/Projects/ccc_policy_assistant/data/embeddings/4e3116a9-2edb-4075-a7c6-17429cdd801f/index_metadata.pickle to gs://ccc_pol_asst/chroma4e3116a9-2edb-4075-a7c6-17429cdd801f/index_metadata.pickle\n"
     ]
    }
   ],
   "execution_count": 2
  },
  {
   "metadata": {
    "ExecuteTime": {
     "end_time": "2024-12-26T00:31:15.259032Z",
     "start_time": "2024-12-26T00:31:15.257547Z"
    }
   },
   "cell_type": "code",
   "source": "",
   "id": "347205381127175c",
   "outputs": [],
   "execution_count": null
  }
 ],
 "metadata": {
  "kernelspec": {
   "display_name": "Python 3",
   "language": "python",
   "name": "python3"
  },
  "language_info": {
   "codemirror_mode": {
    "name": "ipython",
    "version": 2
   },
   "file_extension": ".py",
   "mimetype": "text/x-python",
   "name": "python",
   "nbconvert_exporter": "python",
   "pygments_lexer": "ipython2",
   "version": "2.7.6"
  }
 },
 "nbformat": 4,
 "nbformat_minor": 5
}
